{
 "cells": [
  {
   "cell_type": "raw",
   "metadata": {
    "vscode": {
     "languageId": "raw"
    }
   },
   "source": [
    "---\n",
    "layout: post\n",
    "title: Nested Conditionals, Homework\n",
    "description:  Homework for nested conditionals\n",
    "type: issues \n",
    "comments: true\n",
    "---"
   ]
  },
  {
   "cell_type": "markdown",
   "metadata": {},
   "source": [
    "### Homework Objectives\n",
    "\n",
    "You and your friend want to do different things at the amusement park. To decide, you do a coin flip. Heads means that you get to choose where to go and tails means that your friend gets to choose. If you go on a ride, be sure to check if you are the right height and have enough tickets, and if you go to a food stand, make sure that you have enough money and that the food is in stock. Be creative, and make sure to use nested conditionals!"
   ]
  },
  {
   "cell_type": "markdown",
   "metadata": {},
   "source": [
    "### Instructions\n",
    "\n",
    "1) Create a JavaScript file (Ex. insertName.js)\n",
    "\n",
    "2) Plan out what you will be doing and make variables for the necessary things. There will be a coin flip, so make a variable for that. If there are rides, make a value for the amount of tickets the person has and what height they are. If they go to a food stand, you can make a variable for the amount of money that you have and if the food is in stock.\n",
    "\n",
    "3) Use Math.random() for the coin flip. This generates a number between 0 and 1, so then you multiply this value by 2 and put it inside Math.floor() to round down and get either 0 or 1. Make this the coin flip variable.\n",
    "\n",
    "4) Use an if statement to check what the result of the coin flip was and use console.log to print out a statement to see who won or lost the coin flip. Along with that, print out where they are going next.\n",
    "\n",
    "5) Use more if statements inside of if statements to check if the person can do what they want to do. (Are they tall enough, do they have enough money, etc.)\n",
    "\n",
    "6) After all the checks, print out a result of what happened. If you get stuck, you can look at the examples in the popcorn hacks. Please don't copy and paste, though! \n"
   ]
  },
  {
   "cell_type": "code",
   "execution_count": 4,
   "metadata": {
    "vscode": {
     "languageId": "javascript"
    }
   },
   "outputs": [
    {
     "data": {
      "application/javascript": "// Coin flip (0 or 1)\nlet coinFlip = Math.floor(Math.random() * 2); // 0 = heads, 1 = tails\n\n// Person's info for rides and food\nlet tickets = 5; // Number of tickets the person has\nlet height = 120; // Person's height in centimeters\nlet money = 10; // Amount of money the person has\nlet foodInStock = true; // Whether the food is in stock or not\n\n// Coin flip result and decision\nif (coinFlip === 0) {\n  console.log(\"The coin flip result is: Heads!\");\n} else {\n  console.log(\"The coin flip result is: Tails!\");\n}\n\n// Now determine what the person is doing based on the coin flip\nif (coinFlip === 0) {\n  // Heads, go to a ride\n  console.log(\"The person is going to a ride!\");\n  \n  // Check if they can ride based on height and tickets\n  if (height >= 120 && tickets > 0) {\n    console.log(\"You're tall enough for the ride and have enough tickets!\");\n    tickets--; // Use 1 ticket for the ride\n    console.log(\"You now have \" + tickets + \" tickets left.\");\n  } else {\n    if (height < 120) {\n      console.log(\"Sorry, you're not tall enough for this ride.\");\n    }\n    if (tickets <= 0) {\n      console.log(\"Sorry, you don't have enough tickets for the ride.\");\n    }\n  }\n\n} else {\n  // Tails, go to a food stand\n  console.log(\"The person is going to a food stand!\");\n  \n  // Check if they can buy food\n  if (money >= 5 && foodInStock) {\n    console.log(\"You have enough money for food, and it's in stock!\");\n    money -= 5; // Spend money on food\n    console.log(\"You now have $\" + money + \" left.\");\n  } else {\n    if (money < 5) {\n      console.log(\"Sorry, you don't have enough money to buy food.\");\n    }\n    if (!foodInStock) {\n      console.log(\"Sorry, the food is out of stock.\");\n    }\n  }\n}\n\n// Final output for what happened\nconsole.log(\"End of the adventure!\");\n",
      "text/plain": [
       "<IPython.core.display.Javascript object>"
      ]
     },
     "metadata": {},
     "output_type": "display_data"
    }
   ],
   "source": [
    "%%js\n",
    "// Coin flip (0 or 1)\n",
    "let coinFlip = Math.floor(Math.random() * 2); // 0 = heads, 1 = tails\n",
    "\n",
    "// Person's info for rides and food\n",
    "let tickets = 5; // Number of tickets the person has\n",
    "let height = 120; // Person's height in centimeters\n",
    "let money = 10; // Amount of money the person has\n",
    "let foodInStock = true; // Whether the food is in stock or not\n",
    "\n",
    "// Coin flip result and decision\n",
    "if (coinFlip === 0) {\n",
    "  console.log(\"The coin flip result is: Heads!\");\n",
    "} else {\n",
    "  console.log(\"The coin flip result is: Tails!\");\n",
    "}\n",
    "\n",
    "// Now determine what the person is doing based on the coin flip\n",
    "if (coinFlip === 0) {\n",
    "  // Heads, go to a ride\n",
    "  console.log(\"The person is going to a ride!\");\n",
    "  \n",
    "  // Check if they can ride based on height and tickets\n",
    "  if (height >= 120 && tickets > 0) {\n",
    "    console.log(\"You're tall enough for the ride and have enough tickets!\");\n",
    "    tickets--; // Use 1 ticket for the ride\n",
    "    console.log(\"You now have \" + tickets + \" tickets left.\");\n",
    "  } else {\n",
    "    if (height < 120) {\n",
    "      console.log(\"Sorry, you're not tall enough for this ride.\");\n",
    "    }\n",
    "    if (tickets <= 0) {\n",
    "      console.log(\"Sorry, you don't have enough tickets for the ride.\");\n",
    "    }\n",
    "  }\n",
    "\n",
    "} else {\n",
    "  // Tails, go to a food stand\n",
    "  console.log(\"The person is going to a food stand!\");\n",
    "  \n",
    "  // Check if they can buy food\n",
    "  if (money >= 5 && foodInStock) {\n",
    "    console.log(\"You have enough money for food, and it's in stock!\");\n",
    "    money -= 5; // Spend money on food\n",
    "    console.log(\"You now have $\" + money + \" left.\");\n",
    "  } else {\n",
    "    if (money < 5) {\n",
    "      console.log(\"Sorry, you don't have enough money to buy food.\");\n",
    "    }\n",
    "    if (!foodInStock) {\n",
    "      console.log(\"Sorry, the food is out of stock.\");\n",
    "    }\n",
    "  }\n",
    "}\n",
    "\n",
    "// Final output for what happened\n",
    "console.log(\"End of the adventure!\");"
   ]
  }
 ],
 "metadata": {
  "kernelspec": {
   "display_name": "venv",
   "language": "python",
   "name": "python3"
  },
  "language_info": {
   "codemirror_mode": {
    "name": "ipython",
    "version": 3
   },
   "file_extension": ".py",
   "mimetype": "text/x-python",
   "name": "python",
   "nbconvert_exporter": "python",
   "pygments_lexer": "ipython3",
   "version": "3.13.0"
  }
 },
 "nbformat": 4,
 "nbformat_minor": 2
}
